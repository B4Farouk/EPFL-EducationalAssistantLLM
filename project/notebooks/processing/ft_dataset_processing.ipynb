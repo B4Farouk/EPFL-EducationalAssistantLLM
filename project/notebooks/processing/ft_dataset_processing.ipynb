{
 "cells": [
  {
   "cell_type": "code",
   "execution_count": 5,
   "metadata": {},
   "outputs": [],
   "source": [
    "import sys\n",
    "MODULES_PATHS = [\"../../modules\"]\n",
    "for mpath in MODULES_PATHS:\n",
    "    if mpath not in sys.path:\n",
    "        sys.path.append(mpath)"
   ]
  },
  {
   "cell_type": "code",
   "execution_count": 6,
   "metadata": {},
   "outputs": [
    {
     "name": "stdout",
     "output_type": "stream",
     "text": [
      "The autoreload extension is already loaded. To reload it, use:\n",
      "  %reload_ext autoreload\n"
     ]
    }
   ],
   "source": [
    "import json\n",
    "\n",
    "import torch\n",
    "\n",
    "from context_extraction import SimilarityContextExtractor\n",
    "from datasets_ft import process_ft_dataset\n",
    "\n",
    "%load_ext autoreload\n",
    "%autoreload 2"
   ]
  },
  {
   "cell_type": "code",
   "execution_count": 7,
   "metadata": {},
   "outputs": [],
   "source": [
    "device = \"cuda\" if torch.cuda.is_available() else \"cpu\"\n",
    "\n",
    "ctx_extractor = SimilarityContextExtractor(ignore_stopwords=True, device=device)"
   ]
  },
  {
   "cell_type": "code",
   "execution_count": 8,
   "metadata": {},
   "outputs": [
    {
     "name": "stdout",
     "output_type": "stream",
     "text": [
      "number of interactions in the dataset = 7843\n",
      "number of question/answer pairs in the dataset = 10647\n"
     ]
    }
   ],
   "source": [
    "with open(\"../../datasets/internal/interactions_v1.json\", \"rb\") as reader:\n",
    "    orig_dataset = json.load(reader)\n",
    "\n",
    "with open(\"../../datasets/internal/augmented_interactions_v1.json\", \"rb\") as reader:\n",
    "    aug_dataset = json.load(reader)\n",
    "\n",
    "dataset = process_ft_dataset(orig_dataset, aug_dataset, confidence_threshold=4, ctx_extractor=ctx_extractor)\n",
    "\n",
    "with open(\"../../datasets/fine-tuning/m1_ft_dataset.json\", \"w\") as writer:\n",
    "    json.dump(dataset, writer, indent=2)"
   ]
  }
 ],
 "metadata": {
  "kernelspec": {
   "display_name": "mnlp-py3-9",
   "language": "python",
   "name": "python3"
  },
  "language_info": {
   "codemirror_mode": {
    "name": "ipython",
    "version": 3
   },
   "file_extension": ".py",
   "mimetype": "text/x-python",
   "name": "python",
   "nbconvert_exporter": "python",
   "pygments_lexer": "ipython3",
   "version": "3.9.16"
  },
  "orig_nbformat": 4
 },
 "nbformat": 4,
 "nbformat_minor": 2
}
